{
 "cells": [
  {
   "cell_type": "markdown",
   "metadata": {},
   "source": [
    "# U.S. Medical Insurance Costs"
   ]
  },
  {
   "cell_type": "markdown",
   "metadata": {},
   "source": [
    "Looking at the insurance.csv file in Microsoft Notepad, I can see that each line is a separate entry, and that values are separated by commas. There are 7 fields, and I can notice a few changes that might be made to the data to make it easier to work with.\n",
    "\n",
    "For example, values in the \"smoker\" field are \"yes\" or \"no\". To calculate insurance costs, it might be easier to have these as 1 or 0. The same applies to the \"sex\" field. I could change \"male\" and \"female\" to 1 and 0 respectively."
   ]
  },
  {
   "cell_type": "code",
   "execution_count": 2,
   "metadata": {},
   "outputs": [],
   "source": [
    "import csv\n",
    "import operator as op"
   ]
  },
  {
   "cell_type": "markdown",
   "metadata": {},
   "source": [
    "**Project Goals:**  \n",
    "1. Work out whether there is any correlation between a patient's smoking status, and other variables\n",
    "   * Compare smoking status and age, sex, and bmi.\n",
    "<br/><br/>\n",
    "2. Work out where the majority of patients in this dataset are from.\n",
    "   * This will mean grouping records into categories for every possible value of \"region\", and performing a count for each.\n",
    "<br/><br/>\n",
    "3. Work out whether a patient's region bears any correlation to their insurance cost\n",
    "   * Similarly to how I paired up smoking status with other fields, I will do the same with \"region\"."
   ]
  },
  {
   "cell_type": "code",
   "execution_count": 12,
   "metadata": {},
   "outputs": [
    {
     "name": "stdout",
     "output_type": "stream",
     "text": [
      "There are 1338 records in this dataset:\n",
      "Here is a sample of the first 10:\n",
      "\n",
      "Patient0 :  {'age': '19', 'sex': 'female', 'bmi': '27.9', 'children': '0', 'smoker': 'yes', 'region': 'southwest', 'charges': '16884.924'} \n",
      "\n",
      "Patient1 :  {'age': '18', 'sex': 'male', 'bmi': '33.77', 'children': '1', 'smoker': 'no', 'region': 'southeast', 'charges': '1725.5523'} \n",
      "\n",
      "Patient2 :  {'age': '28', 'sex': 'male', 'bmi': '33', 'children': '3', 'smoker': 'no', 'region': 'southeast', 'charges': '4449.462'} \n",
      "\n",
      "Patient3 :  {'age': '33', 'sex': 'male', 'bmi': '22.705', 'children': '0', 'smoker': 'no', 'region': 'northwest', 'charges': '21984.47061'} \n",
      "\n",
      "Patient4 :  {'age': '32', 'sex': 'male', 'bmi': '28.88', 'children': '0', 'smoker': 'no', 'region': 'northwest', 'charges': '3866.8552'} \n",
      "\n",
      "Patient5 :  {'age': '31', 'sex': 'female', 'bmi': '25.74', 'children': '0', 'smoker': 'no', 'region': 'southeast', 'charges': '3756.6216'} \n",
      "\n",
      "Patient6 :  {'age': '46', 'sex': 'female', 'bmi': '33.44', 'children': '1', 'smoker': 'no', 'region': 'southeast', 'charges': '8240.5896'} \n",
      "\n",
      "Patient7 :  {'age': '37', 'sex': 'female', 'bmi': '27.74', 'children': '3', 'smoker': 'no', 'region': 'northwest', 'charges': '7281.5056'} \n",
      "\n",
      "Patient8 :  {'age': '37', 'sex': 'male', 'bmi': '29.83', 'children': '2', 'smoker': 'no', 'region': 'northeast', 'charges': '6406.4107'} \n",
      "\n",
      "Patient9 :  {'age': '60', 'sex': 'female', 'bmi': '25.84', 'children': '0', 'smoker': 'no', 'region': 'northwest', 'charges': '28923.13692'} \n",
      "\n"
     ]
    }
   ],
   "source": [
    "original_data_dict = {}\n",
    "with open(\"insurance.csv\") as insurance:\n",
    "    original_data = csv.DictReader(insurance)\n",
    "    row_indices = -1\n",
    "    for row in original_data:\n",
    "        row_indices += 1\n",
    "        original_data_dict[\"Patient{}\".format(row_indices)] = row\n",
    "    print(\"There are {} records in this dataset:\\nHere is a sample of the first 10:\\n\".format(row_indices + 1))\n",
    "rows = 0\n",
    "for key, value in original_data_dict.items():\n",
    "    if rows < 10:\n",
    "        print(key, \": \", value, \"\\n\")\n",
    "        rows += 1\n",
    "    else:\n",
    "        break"
   ]
  },
  {
   "cell_type": "markdown",
   "metadata": {},
   "source": [
    "The numerical values in this dataset are all stored as strings. This could make them difficult to work with, so I'm going to convert them all to integer or float types:"
   ]
  },
  {
   "cell_type": "code",
   "execution_count": 4,
   "metadata": {},
   "outputs": [],
   "source": [
    "for data in original_data_dict.values(): #converting all numerical strings into int or float.\n",
    "    data[\"age\"] = int(data.get(\"age\"))\n",
    "    data[\"bmi\"] = float(data.get(\"bmi\"))\n",
    "    data[\"children\"] = int(data.get(\"children\"))\n",
    "    data[\"charges\"] = float(data.get(\"charges\"))\n",
    "#print(original_data_dict)"
   ]
  },
  {
   "cell_type": "markdown",
   "metadata": {},
   "source": [
    "I might want to filter my data based on certain parameters. For example, I might want to view only the people in the northeast, or people who are female. I'm going to create a filter function that uses the operators module (I have imported it as op) to return a new dictionary containing only the results that I want.\n",
    "\n",
    "I will pass in the dictionary, and then a list of lists. the inner lists will be the search criteria, in the format \\[parameter, operator, value\\]. The parameter is the name of the field I want to refine (e.g. \"age\"). The operator is a function from the operators module, (e.g. op.lt for \"less than), and the value is the value I want to compare my results to.\n",
    "\n",
    "So for example, if I call filter_dataset(original_data_dict, \\[\\[\"age\", op.gt, 25\\], \\[\"smoker\", op.eq, \"yes\"\\]\\]), that will give me all the patients aged over 25 who smoke."
   ]
  },
  {
   "cell_type": "code",
   "execution_count": 5,
   "metadata": {},
   "outputs": [
    {
     "name": "stdout",
     "output_type": "stream",
     "text": [
      "('Patient11', {'age': 62, 'sex': 'female', 'bmi': 26.29, 'children': 0, 'smoker': 'yes', 'region': 'southeast', 'charges': 27808.7251})\n",
      "('Patient14', {'age': 27, 'sex': 'male', 'bmi': 42.13, 'children': 0, 'smoker': 'yes', 'region': 'southeast', 'charges': 39611.7577})\n",
      "('Patient19', {'age': 30, 'sex': 'male', 'bmi': 35.3, 'children': 0, 'smoker': 'yes', 'region': 'southwest', 'charges': 36837.467})\n",
      "('Patient23', {'age': 34, 'sex': 'female', 'bmi': 31.92, 'children': 1, 'smoker': 'yes', 'region': 'northeast', 'charges': 37701.8768})\n",
      "('Patient29', {'age': 31, 'sex': 'male', 'bmi': 36.3, 'children': 2, 'smoker': 'yes', 'region': 'southwest', 'charges': 38711.0})\n"
     ]
    }
   ],
   "source": [
    "def filter_dataset(dataset, povs): #pov is a list like[parameter, operator, value], povs is a list of lists\n",
    "    rtn = {}\n",
    "    for k, v in dataset.items():\n",
    "        fail = 0\n",
    "        success = 0\n",
    "        while fail + success < len(povs):\n",
    "            for pov in povs:\n",
    "                parameter = pov[0]\n",
    "                operator = pov[1]\n",
    "                value = pov[2]\n",
    "                if operator(v.get(parameter), value) == False:\n",
    "                    fail += 1\n",
    "                else:\n",
    "                    success += 1\n",
    "        if fail == 0:\n",
    "            rtn[k] = v\n",
    "    return rtn\n",
    "\n",
    "#testing the function:\n",
    "test = filter_dataset(original_data_dict, [[\"age\", op.gt, 25], [\"smoker\", op.eq, \"yes\"]])\n",
    "rows = 0\n",
    "for i in test.items():\n",
    "    if rows < 5:\n",
    "        print(i)\n",
    "        rows += 1\n",
    "    else:\n",
    "        break"
   ]
  },
  {
   "cell_type": "code",
   "execution_count": 6,
   "metadata": {},
   "outputs": [
    {
     "name": "stdout",
     "output_type": "stream",
     "text": [
      "True\n"
     ]
    }
   ],
   "source": [
    "print(op.eq(original_data_dict.get(\"Patient0\").get(\"smoker\"), \"yes\"))"
   ]
  },
  {
   "cell_type": "markdown",
   "metadata": {},
   "source": [
    "I also want a function for calculating averages:"
   ]
  },
  {
   "cell_type": "code",
   "execution_count": 7,
   "metadata": {},
   "outputs": [
    {
     "name": "stdout",
     "output_type": "stream",
     "text": [
      "[19, 18, 28, 33, 32]\n",
      "26.0\n"
     ]
    },
    {
     "data": {
      "text/plain": [
       "26.0"
      ]
     },
     "execution_count": 7,
     "metadata": {},
     "output_type": "execute_result"
    }
   ],
   "source": [
    "def get_average(dataset, parameter):\n",
    "    total = 0\n",
    "    count = 0\n",
    "    for k, v in dataset.items():\n",
    "        count += 1\n",
    "        total += v.get(parameter)\n",
    "    ave = round(total/ count, 2)\n",
    "    return round(ave, 2)\n",
    "\n",
    "#testing the function:\n",
    "dataset_sample = {}\n",
    "rows = 0\n",
    "for k, v in original_data_dict.items():\n",
    "    if rows < 5:\n",
    "        dataset_sample[k] = v\n",
    "        rows += 1\n",
    "    else:\n",
    "        break\n",
    "print([v.get(\"age\") for v in dataset_sample.values()])\n",
    "print((19+18+28+33+32)/5)\n",
    "get_average(dataset_sample, \"age\")"
   ]
  },
  {
   "cell_type": "markdown",
   "metadata": {},
   "source": [
    "...and a function for calculating percentages:"
   ]
  },
  {
   "cell_type": "code",
   "execution_count": 8,
   "metadata": {},
   "outputs": [
    {
     "name": "stdout",
     "output_type": "stream",
     "text": [
      "50.0\n"
     ]
    }
   ],
   "source": [
    "def percentage(a, b):\n",
    "    return round((a / b) * 100, 2)\n",
    "\n",
    "#testing the function:\n",
    "print(percentage(50, 100))"
   ]
  },
  {
   "cell_type": "markdown",
   "metadata": {},
   "source": [
    "**Task 1: Work out if there is any correlation between a patient's smoking status and other variables:**  \n",
    "Here is where I will pair up the \"smoker\" field with other fields, to see if there is any correlation."
   ]
  },
  {
   "cell_type": "markdown",
   "metadata": {},
   "source": [
    "**Task 1a: Smoking Status vs. Age:**"
   ]
  },
  {
   "cell_type": "code",
   "execution_count": 225,
   "metadata": {},
   "outputs": [
    {
     "name": "stdout",
     "output_type": "stream",
     "text": [
      "64\n",
      "18\n"
     ]
    }
   ],
   "source": [
    "#Finding max and min age groups:\n",
    "all_ages = [value.get(\"age\") for value in original_data_dict.values()]\n",
    "print(max(all_ages))\n",
    "print(min(all_ages))"
   ]
  },
  {
   "cell_type": "code",
   "execution_count": 226,
   "metadata": {},
   "outputs": [],
   "source": [
    "#Creating lists of age groups, members of each age group, members of each age group who are smokers, and percentages.\n",
    "\n",
    "age_groups = [\"under_20s\", \"_20s\", \"_30s\", \"_40s\", \"_50s\", \"_60s\"]\n",
    "age_group_members = [\n",
    "    filter_dataset(original_data_dict, [[\"age\", op.lt, 20]]),\n",
    "    filter_dataset(original_data_dict, [[\"age\", op.ge, 20], [\"age\", op.lt, 30]]),\n",
    "    filter_dataset(original_data_dict, [[\"age\", op.ge, 30], [\"age\", op.lt, 40]]),\n",
    "    filter_dataset(original_data_dict, [[\"age\", op.ge, 40], [\"age\", op.lt, 50]]),\n",
    "    filter_dataset(original_data_dict, [[\"age\", op.ge, 50], [\"age\", op.lt, 60]]),\n",
    "    filter_dataset(original_data_dict, [[\"age\", op.ge, 60], [\"age\", op.lt, 70]])\n",
    "]\n",
    "age_group_smokers = [\n",
    "    filter_dataset(original_data_dict, [[\"age\", op.lt, 20], [\"smoker\", op.eq, \"yes\"]]),\n",
    "    filter_dataset(original_data_dict, [[\"age\", op.ge, 20], [\"age\", op.lt, 30], [\"smoker\", op.eq, \"yes\"]]),\n",
    "    filter_dataset(original_data_dict, [[\"age\", op.ge, 30], [\"age\", op.lt, 40], [\"smoker\", op.eq, \"yes\"]]),\n",
    "    filter_dataset(original_data_dict, [[\"age\", op.ge, 40], [\"age\", op.lt, 50], [\"smoker\", op.eq, \"yes\"]]),\n",
    "    filter_dataset(original_data_dict, [[\"age\", op.ge, 50], [\"age\", op.lt, 60], [\"smoker\", op.eq, \"yes\"]]),\n",
    "    filter_dataset(original_data_dict, [[\"age\", op.ge, 60], [\"age\", op.lt, 70], [\"smoker\", op.eq, \"yes\"]])\n",
    "]\n",
    "percentages = [\n",
    "    percentage(len(age_group_smokers[n]), len(age_group_members[n])) for n in range(len(age_group_members))\n",
    "]"
   ]
  },
  {
   "cell_type": "markdown",
   "metadata": {},
   "source": [
    "Now the data needs to be displayed in an easy- to- analyse way:"
   ]
  },
  {
   "cell_type": "code",
   "execution_count": 227,
   "metadata": {},
   "outputs": [
    {
     "name": "stdout",
     "output_type": "stream",
     "text": [
      "For the age group 'under_20s', the percentage of people who are smokers is 21.9%.\n",
      "For the age group '_20s', the percentage of people who are smokers is 20.0%.\n",
      "For the age group '_30s', the percentage of people who are smokers is 22.57%.\n",
      "For the age group '_40s', the percentage of people who are smokers is 22.22%.\n",
      "For the age group '_50s', the percentage of people who are smokers is 15.13%.\n",
      "For the age group '_60s', the percentage of people who are smokers is 23.68%.\n"
     ]
    }
   ],
   "source": [
    "for i in range(len(age_groups)):\n",
    "    print(\"For the age group '{0}', the percentage of people who are smokers is {1}%.\".format(age_groups[i], percentages[i]))"
   ]
  },
  {
   "cell_type": "code",
   "execution_count": 228,
   "metadata": {},
   "outputs": [
    {
     "name": "stdout",
     "output_type": "stream",
     "text": [
      "6.94\n"
     ]
    }
   ],
   "source": [
    "#It looks like the age group \"_50s\" is an anomaly. Let's see by how much:\n",
    "print(round(((21.9 + 20 + 22.57 + 22.22 + 23.68)/ 5) - 15.13, 2))"
   ]
  },
  {
   "cell_type": "markdown",
   "metadata": {},
   "source": [
    "So now we have the percentage of people in each age group who smoke (the last item in the list for each age group).\n",
    "The only age group that stands out is the people in their 50s, who are on average 6.94 percentage points beneath other age groups."
   ]
  },
  {
   "cell_type": "markdown",
   "metadata": {},
   "source": [
    "**Task 1b: Smoking Status vs. Sex:**"
   ]
  },
  {
   "cell_type": "code",
   "execution_count": 229,
   "metadata": {},
   "outputs": [
    {
     "name": "stdout",
     "output_type": "stream",
     "text": [
      "The percentage of males in our dataset who smoke is 23.52%\n",
      "The percentage of females in our dataset who smoke is 17.37%\n"
     ]
    }
   ],
   "source": [
    "males = filter_dataset(original_data_dict, [[\"sex\", op.eq, \"male\"]])\n",
    "male_smokers = filter_dataset(males, [[\"smoker\", op.eq, \"yes\"]])\n",
    "females = filter_dataset(original_data_dict, [[\"sex\", op.eq, \"female\"]])\n",
    "female_smokers = filter_dataset(females, [[\"smoker\", op.eq, \"yes\"]])\n",
    "\n",
    "percent_male_smokers = percentage(len(male_smokers), len(males))\n",
    "percent_female_smokers = percentage(len(female_smokers), len(females))\n",
    "\n",
    "print(\"The percentage of males in our dataset who smoke is {}%\".format(percent_male_smokers))\n",
    "print(\"The percentage of females in our dataset who smoke is {}%\".format(percent_female_smokers))"
   ]
  },
  {
   "cell_type": "markdown",
   "metadata": {},
   "source": [
    "From the above calculations we can see that 23.52% of males in our dataset are smokers, compared to 17.37% of females. Therefore, based only on our dataset, we can say that males are (23.52/17.37 = ) 1.35 times as likely to be smokers than females."
   ]
  },
  {
   "cell_type": "markdown",
   "metadata": {},
   "source": [
    "**Task 1c: Work out if there is a correlation between being a smoker and BMI:**"
   ]
  },
  {
   "cell_type": "code",
   "execution_count": 230,
   "metadata": {},
   "outputs": [
    {
     "name": "stdout",
     "output_type": "stream",
     "text": [
      "53.13\n",
      "15.96\n"
     ]
    }
   ],
   "source": [
    "#Finding the range of BMI values in our dataset:\n",
    "bmis = [patient[\"bmi\"] for patient in original_data_dict.values()]\n",
    "print(max(bmis))\n",
    "print(min(bmis))"
   ]
  },
  {
   "cell_type": "code",
   "execution_count": 238,
   "metadata": {},
   "outputs": [
    {
     "name": "stdout",
     "output_type": "stream",
     "text": [
      "The percentage of people in the bmi group 15-20 who smoke is 21.95%.\n",
      "The percentage of people in the bmi group 20-25 who smoke is 22.55%.\n",
      "The percentage of people in the bmi group 25-30 who smoke is 19.17%.\n",
      "The percentage of people in the bmi group 30-35 who smoke is 18.93%.\n",
      "The percentage of people in the bmi group 35-40 who smoke is 22.22%.\n",
      "The percentage of people in the bmi group 40-45 who smoke is 22.54%.\n",
      "The percentage of people in the bmi group 45-50 who smoke is 23.53%.\n",
      "The percentage of people in the bmi group 50-55 who smoke is 33.33%.\n"
     ]
    }
   ],
   "source": [
    "bmi_groups = [\"15-20\", \"20-25\", \"25-30\", \"30-35\", \"35-40\", \"40-45\", \"45-50\", \"50-55\"]\n",
    "#the data for BMI is continuous, so where I have written \"15-20\", read as 15 <= BMI < 20.\n",
    "bmi_group_members = [\n",
    "    filter_dataset(original_data_dict, [[\"bmi\", op.ge, 15], [\"bmi\", op.lt, 20]]),\n",
    "    filter_dataset(original_data_dict, [[\"bmi\", op.ge, 20], [\"bmi\", op.lt, 25]]),\n",
    "    filter_dataset(original_data_dict, [[\"bmi\", op.ge, 25], [\"bmi\", op.lt, 30]]),\n",
    "    filter_dataset(original_data_dict, [[\"bmi\", op.ge, 30], [\"bmi\", op.lt, 35]]),\n",
    "    filter_dataset(original_data_dict, [[\"bmi\", op.ge, 35], [\"bmi\", op.lt, 40]]),\n",
    "    filter_dataset(original_data_dict, [[\"bmi\", op.ge, 40], [\"bmi\", op.lt, 45]]),\n",
    "    filter_dataset(original_data_dict, [[\"bmi\", op.ge, 45], [\"bmi\", op.lt, 50]]),\n",
    "    filter_dataset(original_data_dict, [[\"bmi\", op.ge, 50], [\"bmi\", op.lt, 55]]),\n",
    "]\n",
    "\n",
    "bmi_group_smokers = [\n",
    "    filter_dataset(bmi_group_members[i], [[\"smoker\", op.eq, \"yes\"]]) for i in range(len(bmi_group_members))\n",
    "]\n",
    "\n",
    "percentages = [\n",
    "    percentage(len(bmi_group_smokers[i]), len(bmi_group_members[i])) for i in range(len(bmi_group_members))\n",
    "]\n",
    "\n",
    "for i in range(len(bmi_groups)):\n",
    "    print(\"The percentage of people in the bmi group {0} who smoke is {1}%.\".format(bmi_groups[i], percentages[i]))"
   ]
  },
  {
   "cell_type": "markdown",
   "metadata": {},
   "source": [
    "The most interesting bmi group is 50_to_55, with 33.33% of people in this group being smokers. According to the NHS website, for most adults the healthy bmi range is 18.5 to 24.9. However this is not the range with the lowest percentage of smokers- that goes to the 30_to_35 group, which according to the NHS is in the obese range.\n",
    "\n",
    "I am not going to speculate about possible reasons for this, because I only have this limited data. So I will just conclude that based on this data, there is no obvious correlation between bmi and being a smoker."
   ]
  },
  {
   "cell_type": "markdown",
   "metadata": {},
   "source": [
    "**Task 1d: Smoking Status vs. Region:**"
   ]
  },
  {
   "cell_type": "code",
   "execution_count": 239,
   "metadata": {},
   "outputs": [
    {
     "name": "stdout",
     "output_type": "stream",
     "text": [
      "['southwest', 'southeast', 'northwest', 'northeast']\n"
     ]
    }
   ],
   "source": [
    "#Find out all the distinct values of \"region\" in the dataset:\n",
    "regions = []\n",
    "for patient in original_data_dict.values():\n",
    "    if patient.get(\"region\") not in regions:\n",
    "        regions.append(patient.get(\"region\"))\n",
    "print(regions)"
   ]
  },
  {
   "cell_type": "code",
   "execution_count": 267,
   "metadata": {},
   "outputs": [
    {
     "name": "stdout",
     "output_type": "stream",
     "text": [
      "The percentage of people who live in the southwest who smoke is 17.85%.\n",
      "The percentage of people who live in the southeast who smoke is 25.0%.\n",
      "The percentage of people who live in the northwest who smoke is 17.85%.\n",
      "The percentage of people who live in the northeast who smoke is 20.68%.\n"
     ]
    }
   ],
   "source": [
    "regions = [\"southwest\", \"southeast\", \"northwest\", \"northeast\"]\n",
    "region_members = [\n",
    "    filter_dataset(original_data_dict, [[\"region\", op.eq, regions[i]]]) for i in range(len(regions))\n",
    "]\n",
    "\n",
    "region_smokers = [\n",
    "    filter_dataset(region_members[i], [[\"smoker\", op.eq, \"yes\"]]) for i in range(len(region_members))\n",
    "]\n",
    "\n",
    "percentages = [\n",
    "    percentage(len(region_smokers[i]), len(region_members[i])) for i in range(len(region_members))\n",
    "]\n",
    "\n",
    "for i in range(len(regions)):\n",
    "    print(\"The percentage of people who live in the {0} who smoke is {1}%.\".format(regions[i], percentages[i]))"
   ]
  },
  {
   "cell_type": "markdown",
   "metadata": {},
   "source": [
    "I thought it was strange that the percentage for \"southwest\" and \"northwest\" was exactly the same. I couldn't see a mistake in my code but I wasn't sure, so I did the following experiments to see:"
   ]
  },
  {
   "cell_type": "code",
   "execution_count": 268,
   "metadata": {},
   "outputs": [
    {
     "name": "stdout",
     "output_type": "stream",
     "text": [
      "('southwest', [58, 267, 325, 17.85])\n",
      "('southeast', [91, 273, 364, 25.0])\n",
      "('northwest', [58, 267, 325, 17.85])\n",
      "('northeast', [67, 257, 324, 20.68])\n"
     ]
    }
   ],
   "source": [
    "#Create a dictionary of {region: [smokers, non_smokers, total, percentage]}\n",
    "region_to_smoking_status = {\n",
    "    region: [0, 0, 0, 0] for region in regions\n",
    "}\n",
    "for patient in original_data_dict.values():\n",
    "    region_to_smoking_status[patient.get(\"region\")][2] += 1\n",
    "    if patient.get(\"smoker\") == \"yes\":\n",
    "        region_to_smoking_status[patient.get(\"region\")][0] += 1\n",
    "    else:\n",
    "        region_to_smoking_status[patient.get(\"region\")][1] += 1\n",
    "for data in region_to_smoking_status.values():\n",
    "    data[3] = round((data[0]/ data[2]) * 100, 2)\n",
    "for region in region_to_smoking_status.items():\n",
    "    print(region)"
   ]
  },
  {
   "cell_type": "markdown",
   "metadata": {},
   "source": [
    "...It came out exactly the same..."
   ]
  },
  {
   "cell_type": "code",
   "execution_count": 269,
   "metadata": {},
   "outputs": [
    {
     "name": "stdout",
     "output_type": "stream",
     "text": [
      "325 58 371 3\n"
     ]
    }
   ],
   "source": [
    "count_sw = 0 #total people in southwest\n",
    "for patient in original_data_dict.values():\n",
    "    if patient.get(\"region\") == \"southwest\":\n",
    "        count_sw += 1\n",
    "        \n",
    "count_sw_smokers = 0 #total smokers in southwest\n",
    "for patient in original_data_dict.values():\n",
    "    if patient.get(\"region\") == \"southwest\" and patient.get(\"smoker\") == \"yes\":\n",
    "        count_sw_smokers += 1\n",
    "        \n",
    "count_sw_children = 0 #total children in southwest\n",
    "for patient in original_data_dict.values():\n",
    "    if patient.get(\"region\") == \"southwest\":\n",
    "        count_sw_children += patient.get(\"children\")\n",
    "\n",
    "count_sw_smokers_30 = 0 #total 30 year old smokers in southwest\n",
    "for patient in original_data_dict.values():\n",
    "    if patient.get(\"region\") == \"southwest\" and patient.get(\"age\") == 30 and patient.get(\"smoker\") == \"yes\":\n",
    "        count_sw_smokers_30 += 1\n",
    "\n",
    "print(count_sw, count_sw_smokers, count_sw_children, count_sw_smokers_30)"
   ]
  },
  {
   "cell_type": "code",
   "execution_count": 270,
   "metadata": {},
   "outputs": [
    {
     "name": "stdout",
     "output_type": "stream",
     "text": [
      "325 58 373 3\n"
     ]
    }
   ],
   "source": [
    "count_nw = 0 #total people in northwest\n",
    "for patient in original_data_dict.values():\n",
    "    if patient.get(\"region\") == \"northwest\":\n",
    "        count_nw += 1\n",
    "\n",
    "count_nw_smokers = 0 #total smokers in northwest\n",
    "for patient in original_data_dict.values():\n",
    "    if patient.get(\"region\") == \"northwest\" and patient.get(\"smoker\") == \"yes\":\n",
    "        count_nw_smokers += 1\n",
    "\n",
    "count_nw_children = 0 #total children in northwest\n",
    "for patient in original_data_dict.values():\n",
    "    if patient.get(\"region\") == \"northwest\":\n",
    "        count_nw_children += patient.get(\"children\")\n",
    "\n",
    "count_nw_smokers_30 = 0 #total 30 year old smokers in northwest\n",
    "for patient in original_data_dict.values():\n",
    "    if patient.get(\"region\") == \"northwest\" and patient.get(\"age\") == 30 and patient.get(\"smoker\") == \"yes\":\n",
    "        count_nw_smokers_30 += 1\n",
    "\n",
    "print(count_nw, count_nw_smokers, count_nw_children, count_nw_smokers_30)"
   ]
  },
  {
   "cell_type": "markdown",
   "metadata": {},
   "source": [
    "The only difference is the number of children. But the total people, total smokers and total 30 year old smokers are the same. Could be coincidence, but I thought it was interesting. However if this was a real database, it would make me want to check if data was entered correctly."
   ]
  },
  {
   "cell_type": "markdown",
   "metadata": {},
   "source": [
    "**Task 2: Work out where the majority of patients in the dataset are from**"
   ]
  },
  {
   "cell_type": "code",
   "execution_count": 271,
   "metadata": {
    "scrolled": true
   },
   "outputs": [
    {
     "name": "stdout",
     "output_type": "stream",
     "text": [
      "{'southwest': 325, 'southeast': 364, 'northwest': 325, 'northeast': 324}\n"
     ]
    }
   ],
   "source": [
    "def region_count(dataset):\n",
    "    region_count = {\n",
    "        \"southwest\": 0,\n",
    "        \"southeast\": 0,\n",
    "        \"northwest\": 0,\n",
    "        \"northeast\": 0\n",
    "    }\n",
    "    for patient in dataset.values():\n",
    "        region_count[patient.get(\"region\")] += 1\n",
    "    print(region_count)\n",
    "\n",
    "region_count(original_data_dict)"
   ]
  },
  {
   "cell_type": "markdown",
   "metadata": {},
   "source": [
    "People seem to be fairly evenly spread out between regions."
   ]
  },
  {
   "cell_type": "markdown",
   "metadata": {},
   "source": [
    "**Task 3: Work out if there is a relationship between region and insurance cost**"
   ]
  },
  {
   "cell_type": "code",
   "execution_count": 272,
   "metadata": {},
   "outputs": [
    {
     "name": "stdout",
     "output_type": "stream",
     "text": [
      "The average charge of insurance for people in the southwest is $12000.0.\n",
      "The average charge of insurance for people in the southeast is $15000.0.\n",
      "The average charge of insurance for people in the northwest is $12000.0.\n",
      "The average charge of insurance for people in the northeast is $13000.0.\n"
     ]
    }
   ],
   "source": [
    "region_members = [\n",
    "    filter_dataset(original_data_dict, [[\"region\", op.eq, regions[i]]]) for i in range(len(regions))\n",
    "]\n",
    "\n",
    "ave_charges = [\n",
    "    round(get_average(region_members[i], \"charges\"), -3) for i in range(len(region_members))\n",
    "]\n",
    "\n",
    "for i in range(len(regions)):\n",
    "    print(\"The average charge of insurance for people in the {0} is ${1}.\".format(regions[i], ave_charges[i]))"
   ]
  },
  {
   "cell_type": "markdown",
   "metadata": {},
   "source": [
    "I rounded all the average charges to 2sf. People in the southeast tend to have the most expensive insurance costs, at around $15000. From earlier, when analysing percentage of smokers per region, people in the southeast had the highest score, at 25 \\%, which is likely to increase insurance cost. However I wonder if there are any other factors that could be contributing to this, so I'm going to test region against BMI, and region against number of children."
   ]
  },
  {
   "cell_type": "code",
   "execution_count": 273,
   "metadata": {},
   "outputs": [
    {
     "name": "stdout",
     "output_type": "stream",
     "text": [
      "The average BMI for people in the southwest is 30.6.\n",
      "The average BMI for people in the southeast is 33.36.\n",
      "The average BMI for people in the northwest is 29.2.\n",
      "The average BMI for people in the northeast is 29.17.\n"
     ]
    }
   ],
   "source": [
    "#Average BMI per region:\n",
    "\n",
    "ave_bmi_per_region = [\n",
    "    get_average(region_members[i], \"bmi\") for i in range(len(region_members))\n",
    "]\n",
    "\n",
    "for i in range(len(regions)):\n",
    "    print(\"The average BMI for people in the {0} is {1}.\".format(regions[i], ave_bmi_per_region[i]))"
   ]
  },
  {
   "cell_type": "markdown",
   "metadata": {},
   "source": [
    "So people in the southeast also have the highest average BMI, which is likely to be contributing to higher insurance costs."
   ]
  },
  {
   "cell_type": "code",
   "execution_count": 274,
   "metadata": {},
   "outputs": [
    {
     "name": "stdout",
     "output_type": "stream",
     "text": [
      "The average number of children for people in the southwest is 1.14.\n",
      "The average number of children for people in the southeast is 1.05.\n",
      "The average number of children for people in the northwest is 1.15.\n",
      "The average number of children for people in the northeast is 1.05.\n"
     ]
    }
   ],
   "source": [
    "#Average number of children per region:\n",
    "\n",
    "ave_children_per_region = [\n",
    "    get_average(region_members[i], \"children\") for i in range(len(region_members))\n",
    "]\n",
    "\n",
    "for i in range(len(regions)):\n",
    "    print(\"The average number of children for people in the {0} is {1}.\".format(regions[i], ave_children_per_region[i]))"
   ]
  },
  {
   "cell_type": "markdown",
   "metadata": {},
   "source": [
    "People in the southeast and the northeast are equal in having the highest average number of children. However it is by less than half a child so is unlikely to be a major contributor to the southeast's high insurance costs."
   ]
  }
 ],
 "metadata": {
  "kernelspec": {
   "display_name": "Python 3",
   "language": "python",
   "name": "python3"
  },
  "language_info": {
   "codemirror_mode": {
    "name": "ipython",
    "version": 3
   },
   "file_extension": ".py",
   "mimetype": "text/x-python",
   "name": "python",
   "nbconvert_exporter": "python",
   "pygments_lexer": "ipython3",
   "version": "3.8.3"
  }
 },
 "nbformat": 4,
 "nbformat_minor": 4
}
